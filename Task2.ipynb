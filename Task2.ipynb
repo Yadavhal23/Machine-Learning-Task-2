{
  "nbformat": 4,
  "nbformat_minor": 0,
  "metadata": {
    "colab": {
      "provenance": []
    },
    "kernelspec": {
      "name": "python3",
      "display_name": "Python 3"
    },
    "language_info": {
      "name": "python"
    }
  },
  "cells": [
    {
      "cell_type": "code",
      "execution_count": null,
      "metadata": {
        "id": "3gJs1LBF6bPS"
      },
      "outputs": [],
      "source": [
        "import os\n",
        "import requests\n",
        "import re\n",
        "# Code here - Import BeautifulSoup library\n",
        "from bs4 import BeautifulSoup\n",
        "\n"
      ]
    },
    {
      "cell_type": "code",
      "source": [
        "# Code ends here\n",
        "\n",
        "# function to get the html source text of the medium article\n",
        "def get_page():\n",
        "    global url\n",
        "\n",
        "    # Code here - Ask the user to input \"Enter url of a medium article: \" and collect it in url\n",
        "    url = input(\"Enter url of a medium article: \")\n",
        "    # Code ends here\n",
        "\n",
        "    # handling possible error\n",
        "    if not re.match(r'https?://medium.com/',url):\n",
        "        print('Please enter a valid website, or make sure it is a medium article')\n",
        "        sys.exit(1)\n",
        "\n",
        "    # Code here - Call get method in requests object, pass url and collect it in res\n",
        "    res = requests.get(url)\n",
        "    # Code ends here\n",
        "\n",
        "    res.raise_for_status()\n",
        "    soup = BeautifulSoup(res.text, 'html.parser')\n",
        "    return soup\n",
        "\n",
        "# function to remove all the html tags and replace some with specific strings\n",
        "def clean(text):\n",
        "    rep = {\"<br>\": \"\\n\", \"<br/>\": \"\\n\", \"<li>\":  \"\\n\"}\n",
        "    rep = dict((re.escape(k), v) for k, v in rep.items())\n",
        "    pattern = re.compile(\"|\".join(rep.keys()))\n",
        "    text = pattern.sub(lambda m: rep[re.escape(m.group(0))], text)\n",
        "    text = re.sub('\\<(.*?)\\>', '', text)\n",
        "    return text\n",
        "\n",
        "def collect_text(soup):\n",
        "    text = f'url: {url}\\n\\n'\n",
        "    para_text = soup.find_all('p')\n",
        "    print(f\"paragraphs text = \\n {para_text}\")\n",
        "    for para in para_text:\n",
        "        text += f\"{para.text}\\n\\n\"\n",
        "    return text\n",
        "\n",
        "# function to save file in the current directory\n",
        "def save_file(text):\n",
        "    if not os.path.exists('./scraped_articles'):\n",
        "        os.mkdir('./scraped_articles')\n",
        "    name = url.split(\"/\")[-1]\n",
        "    print(name)\n",
        "    fname = f'scraped_articles/{name}.txt'\n",
        "\n",
        "    # Code here - write a file using with (2 lines)\n",
        "    with open(fname, 'w', encoding='utf-8') as file:\n",
        "        file.write(text)\n",
        "    # Code ends here\n",
        "\n",
        "    print(f'File saved in directory {fname}')\n",
        "\n"
      ],
      "metadata": {
        "id": "oFjMxHD2-IbL"
      },
      "execution_count": null,
      "outputs": []
    },
    {
      "cell_type": "code",
      "source": [
        "if __name__ == '__main__':\n",
        "    text = collect_text(get_page())\n",
        "    save_file(text)\n",
        "    # Instructions to Run this python code\n",
        "    # Give url as https://medium.com/@subashgandyer/papa-what-is-a-neural-network-c5e5cc427c7"
      ],
      "metadata": {
        "id": "vR3xwmxY-MbH"
      },
      "execution_count": null,
      "outputs": []
    }
  ]
}